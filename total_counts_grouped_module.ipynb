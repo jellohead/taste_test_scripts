{
 "cells": [
  {
   "attachments": {},
   "cell_type": "markdown",
   "metadata": {},
   "source": [
    "#### This script takes a list of variables, concats them into a longer single dataframe, runs value counts on the new dataframe, and exports the results to a new worksheet in an existing excel workbook."
   ]
  },
  {
   "cell_type": "code",
   "execution_count": 1,
   "metadata": {},
   "outputs": [
    {
     "name": "stdout",
     "output_type": "stream",
     "text": [
      "Aftertaste                                               0.032787\n",
      "All other                                                0.065574\n",
      "Citrus, lemon, lime flavor                               0.049180\n",
      "Flavor, taste                                            0.147541\n",
      "Fruity flavor                                            0.081967\n",
      "Level of flavor, strong, not too strong, not too weak    0.114754\n",
      "Nothing                                                  0.229508\n",
      "Refreshing                                               0.131148\n",
      "Smooth                                                   0.049180\n",
      "Sweetness                                                0.081967\n",
      "Tangy                                                    0.016393\n",
      "Name: proportion, dtype: float64\n",
      "Total counts: 61\n"
     ]
    }
   ],
   "source": [
    "#!/usr/bin/env python3\n",
    "import pandas as pd\n",
    "import pyreadstat\n",
    "from openpyxl import load_workbook\n",
    "\n",
    "# Read SPSS .sav file\n",
    "data, meta = pyreadstat.read_sav(\n",
    "    \"../../SPSS-Python/spss-datasets/Taste_Test_Data_File.sav\"\n",
    ")\n",
    "\n",
    "df_copy = pyreadstat.set_value_labels(data, meta)\n",
    "\n",
    "# List of variable names\n",
    "values_list = [\"TTQ3.1_1\", \"TTQ3.1_2\", \"TTQ3.1_3\"]\n",
    "\n",
    "# excel file to save result to\n",
    "excel_file = \"../taste_test_scripts/grouped_frequencies.xlsx\"\n",
    "\n",
    "# Select variables from the SPSS dataset\n",
    "selected_variables = [\n",
    "    variable for variable in meta.column_names if variable in values_list\n",
    "]\n",
    "\n",
    "# Create a new dataframe by concatenating rows\n",
    "combined_df = pd.concat(\n",
    "    [df_copy[selected_var].rename(selected_var) for selected_var in selected_variables],\n",
    "    axis=0,\n",
    "    ignore_index=True,\n",
    ").dropna(axis=0)\n",
    "\n",
    "# count responses by variable value and get total counts for combined.df\n",
    "value_counts = combined_df.value_counts(normalize=True).sort_index()\n",
    "total_counts = combined_df.value_counts().sum()\n",
    "\n",
    "print(f\"{value_counts}\\nTotal counts: {total_counts}\")\n",
    "\n",
    "# Save to Excel\n",
    "result = pd.concat(\n",
    "    [value_counts, pd.Series(total_counts, index=[\"Total counts\"])], axis=1\n",
    ")\n",
    "result.columns = [\"Value counts\", \"Total counts\"]\n",
    "\n",
    "# Open the existing workbook\n",
    "book = load_workbook(excel_file)\n",
    "\n",
    "# Create a new worksheet with the name of the first value in values_list\n",
    "worksheet_name = values_list[0]\n",
    "\n",
    "# Append the DataFrame to the existing workbook\n",
    "with pd.ExcelWriter(\n",
    "    \"../taste_test_scripts/grouped_frequencies.xlsx\",\n",
    "    if_sheet_exists=\"overlay\",\n",
    "    engine=\"openpyxl\",\n",
    "    mode=\"a\",\n",
    ") as writer:\n",
    "    result.to_excel(writer, sheet_name=worksheet_name, index_label=\"Variable\")\n"
   ]
  },
  {
   "attachments": {},
   "cell_type": "markdown",
   "metadata": {},
   "source": [
    "### Break this into pieces for module(s)"
   ]
  },
  {
   "cell_type": "code",
   "execution_count": 2,
   "metadata": {},
   "outputs": [],
   "source": [
    "#!/usr/bin/env python3\n",
    "import pandas as pd\n",
    "import pyreadstat\n",
    "from openpyxl import load_workbook\n",
    "\n",
    "# Read SPSS .sav file\n",
    "data, meta = pyreadstat.read_sav(\n",
    "    \"../../SPSS-Python/spss-datasets/Taste_Test_Data_File.sav\"\n",
    ")\n",
    "\n",
    "df_copy = pyreadstat.set_value_labels(data, meta)\n",
    "\n",
    "# List of variable names\n",
    "values_list = [\"TTQ3.1_1\", \"TTQ3.1_2\", \"TTQ3.1_3\"]\n",
    "\n",
    "# excel file to save result to\n",
    "excel_file = \"../taste_test_scripts/grouped_frequencies.xlsx\"\n",
    "\n",
    "# Open the existing workbook\n",
    "book = load_workbook(excel_file)"
   ]
  },
  {
   "cell_type": "code",
   "execution_count": 3,
   "metadata": {},
   "outputs": [
    {
     "name": "stdout",
     "output_type": "stream",
     "text": [
      "Aftertaste                                               0.032787\n",
      "All other                                                0.065574\n",
      "Citrus, lemon, lime flavor                               0.049180\n",
      "Flavor, taste                                            0.147541\n",
      "Fruity flavor                                            0.081967\n",
      "Level of flavor, strong, not too strong, not too weak    0.114754\n",
      "Nothing                                                  0.229508\n",
      "Refreshing                                               0.131148\n",
      "Smooth                                                   0.049180\n",
      "Sweetness                                                0.081967\n",
      "Tangy                                                    0.016393\n",
      "Name: proportion, dtype: float64\n",
      "Total counts: 61\n"
     ]
    }
   ],
   "source": [
    "\n",
    "# Create a new dataframe by concatenating rows\n",
    "combined_df = pd.concat(\n",
    "    [df_copy[selected_var].rename(selected_var) for selected_var in selected_variables],\n",
    "    axis=0,\n",
    "    ignore_index=True,\n",
    ").dropna(axis=0)\n",
    "\n",
    "# count responses by variable value and get total counts for combined.df\n",
    "value_counts = combined_df.value_counts(normalize=True).sort_index()\n",
    "total_counts = combined_df.value_counts().sum()\n",
    "\n",
    "print(f\"{value_counts}\\nTotal counts: {total_counts}\")\n",
    "\n",
    "# Save to Excel\n",
    "result = pd.concat(\n",
    "    [value_counts, pd.Series(total_counts, index=[\"Total counts\"])], axis=1\n",
    ")\n",
    "result.columns = [\"Value counts\", \"Total counts\"]\n",
    "\n",
    "# Create a new worksheet with the name of the first value in values_list\n",
    "worksheet_name = values_list[0]\n",
    "\n",
    "# Append the DataFrame to the existing workbook\n",
    "with pd.ExcelWriter(\n",
    "    \"../taste_test_scripts/grouped_frequencies.xlsx\",\n",
    "    if_sheet_exists=\"overlay\",\n",
    "    engine=\"openpyxl\",\n",
    "    mode=\"a\",\n",
    ") as writer:\n",
    "    result.to_excel(writer, sheet_name=worksheet_name, index_label=\"Variable\")\n"
   ]
  }
 ],
 "metadata": {
  "kernelspec": {
   "display_name": "Python 3",
   "language": "python",
   "name": "python3"
  },
  "language_info": {
   "codemirror_mode": {
    "name": "ipython",
    "version": 3
   },
   "file_extension": ".py",
   "mimetype": "text/x-python",
   "name": "python",
   "nbconvert_exporter": "python",
   "pygments_lexer": "ipython3",
   "version": "3.9.6"
  },
  "orig_nbformat": 4
 },
 "nbformat": 4,
 "nbformat_minor": 2
}
